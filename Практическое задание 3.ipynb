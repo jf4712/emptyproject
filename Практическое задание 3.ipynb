{
 "cells": [
  {
   "cell_type": "code",
   "execution_count": 15,
   "metadata": {},
   "outputs": [
    {
     "name": "stdout",
     "output_type": "stream",
     "text": [
      "z1\n"
     ]
    }
   ],
   "source": [
    "print ('zadanie 1')"
   ]
  },
  {
   "cell_type": "code",
   "execution_count": 12,
   "metadata": {
    "scrolled": true
   },
   "outputs": [
    {
     "name": "stdout",
     "output_type": "stream",
     "text": [
      "ra\n"
     ]
    },
    {
     "data": {
      "text/plain": [
       "'Hello, ra!'"
      ]
     },
     "execution_count": 12,
     "metadata": {},
     "output_type": "execute_result"
    }
   ],
   "source": [
    "def sh(recipient):\n",
    "    return 'Hello, {}!'.format(recipient)\n",
    "sh(input())"
   ]
  },
  {
   "cell_type": "code",
   "execution_count": 25,
   "metadata": {},
   "outputs": [
    {
     "name": "stdout",
     "output_type": "stream",
     "text": [
      "zadanie 2\n"
     ]
    }
   ],
   "source": [
    "print('zadanie 2')"
   ]
  },
  {
   "cell_type": "code",
   "execution_count": 26,
   "metadata": {
    "scrolled": false
   },
   "outputs": [
    {
     "name": "stdout",
     "output_type": "stream",
     "text": [
      "2\n",
      "    _~_        _~_    \n",
      "   (o o)      (o o)   \n",
      "  /  V  \\    /  V  \\  \n",
      " /(  _  )\\  /(  _  )\\ \n",
      "   ^^ ^^      ^^ ^^   \n"
     ]
    }
   ],
   "source": [
    "v = int(input())\n",
    "a1 = '    _~_    '\n",
    "a2 = '   (o o)   '\n",
    "a3 = '  /  V  \\  '\n",
    "a4 = ' /(  _  )\\ '\n",
    "a5 = '   ^^ ^^   '\n",
    " \n",
    "print(a1*v)\n",
    "print(a2*v)\n",
    "print(a3*v)\n",
    "print(a4*v)\n",
    "print(a5*v)"
   ]
  },
  {
   "cell_type": "code",
   "execution_count": null,
   "metadata": {},
   "outputs": [],
   "source": []
  }
 ],
 "metadata": {
  "kernelspec": {
   "display_name": "Python 3",
   "language": "python",
   "name": "python3"
  },
  "language_info": {
   "codemirror_mode": {
    "name": "ipython",
    "version": 3
   },
   "file_extension": ".py",
   "mimetype": "text/x-python",
   "name": "python",
   "nbconvert_exporter": "python",
   "pygments_lexer": "ipython3",
   "version": "3.7.6"
  }
 },
 "nbformat": 4,
 "nbformat_minor": 4
}
